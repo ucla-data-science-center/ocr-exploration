{
 "cells": [
  {
   "cell_type": "code",
   "execution_count": 2,
   "id": "166ab65c",
   "metadata": {},
   "outputs": [
    {
     "name": "stdout",
     "output_type": "stream",
     "text": [
      "Requirement already satisfied: pytesseract in c:\\users\\lhhag\\anaconda3\\lib\\site-packages (0.3.10)\n",
      "Requirement already satisfied: packaging>=21.3 in c:\\users\\lhhag\\anaconda3\\lib\\site-packages (from pytesseract) (23.1)\n",
      "Requirement already satisfied: Pillow>=8.0.0 in c:\\users\\lhhag\\anaconda3\\lib\\site-packages (from pytesseract) (8.4.0)\n",
      "Requirement already satisfied: fpdf in c:\\users\\lhhag\\anaconda3\\lib\\site-packages (1.7.2)\n"
     ]
    }
   ],
   "source": [
    "!pip install pytesseract\n",
    "!pip install fpdf"
   ]
  },
  {
   "cell_type": "markdown",
   "id": "8e042d9e",
   "metadata": {},
   "source": [
    "In this notebook I will be running through a few examples showing my progress working with tesseract. Note that you have to install tesseract locally to use the Python API. Tesseract can be installed by following this page: https://tesseract-ocr.github.io/tessdoc/Installation.html. Information on pytesseract can be found here: https://pypi.org/project/pytesseract/. Please note that you have to install the additional languages in order to perform it on other languages."
   ]
  },
  {
   "cell_type": "code",
   "execution_count": 1,
   "id": "2dac5ba9",
   "metadata": {},
   "outputs": [],
   "source": [
    "from PIL import Image\n",
    "\n",
    "import pytesseract\n",
    "import re\n",
    "\n",
    "# If you don't have tesseract executable in your PATH, include the following:\n",
    "pytesseract.pytesseract.tesseract_cmd = r'C:\\Program Files\\Tesseract-OCR\\tesseract'"
   ]
  },
  {
   "cell_type": "markdown",
   "id": "a16e64ac",
   "metadata": {},
   "source": [
    "Since we will be using script data, we will be specifying that tesseract should look in the scripts folder."
   ]
  },
  {
   "cell_type": "markdown",
   "id": "3fcaa094",
   "metadata": {},
   "source": [
    "Here we will run a basic example. We will have PIL read in the test image, then have it output to our results folder as a PDF. Tesseract will automatically generate the HOCR component for the input png. Since we specify extension to be 'pdf' it will merge the png and hocr into a searchable pdf. Note that that the bulk of the testing data was found on the tesseract github at: https://github.com/tesseract-ocr/tesseract. The file basic_test.png was downloaded from https://i.pinimg.com/originals/e0/80/96/e08096c170d005631906ef908b4d209b.jpg."
   ]
  },
  {
   "cell_type": "code",
   "execution_count": 2,
   "id": "28565f35",
   "metadata": {
    "scrolled": true
   },
   "outputs": [
    {
     "name": "stdout",
     "output_type": "stream",
     "text": [
      "ANNA KARENINA 5\n",
      "\n",
      "‘But then, while she was here in the house with us, I\n",
      "did not permit myself any liberties. And the worst of\n",
      "all is that she is already... All this must needs happen\n",
      "just to spite me. Ar! ar! ar! But what, what is to be\n",
      "done?”\n",
      "\n",
      "There was no answer except that common answer\n",
      "which life gives to all the most complicated and unsolva-\n",
      "ble questions, —this answer: You must live according\n",
      "to circumstances, in other words, forget yourself. But\n",
      "as you cannot forget yourself in sleep—at least till\n",
      "night, as you cannot return to that music which the\n",
      "water-bottle woman sang, therefore you must forget\n",
      "yourself in the dream of life!\n",
      "\n",
      "“We shali see by and by,” said Stepan Arkadyevitch\n",
      "to himself, and rising he put on his gray dressing-gown\n",
      "with blue silk lining, tied the tassels into a knot, and\n",
      "took a full breath into his ample lungs. Then with his\n",
      "usual firm step, his legs spread somewhat apart and\n",
      "easily bearing the solid weight of his body, he went\n",
      "over to the window, lifted the curtain, and loudly rang\n",
      "the bell. It was instantly answered by his old friend\n",
      "and valet Matve, who came in bringing ‘his clothes,\n",
      "boots, and a telegram. Behind Matve came the barber\n",
      "with the shaving utensils.\n",
      "\n",
      "“ Are there any papers from the court-house ?” asked\n",
      "Stepan Arkadyevitch, taking the telegram and taking\n",
      "his seat in front of the mirror.\n",
      "\n",
      "... “On the breakfast-table,” replied Matve, looking\n",
      "inquiringly and with sympathy at his master, and after\n",
      "an instant’s pause, added with a sly smile, “They have\n",
      "come from the boss of the livery-stable.”\n",
      "\n",
      "Stepan Arkadyevitch made no reply and only looked\n",
      "at Matve in the mirror. By the look which they inter-\n",
      "changed it could be seen how they understood each\n",
      "other. The look of Stepan Arkadyevitch seemed to\n",
      "ask, “Why did you say that? Don’t you know?”\n",
      "\n",
      "Matve thrust his hands in his jacket pockets, kicked\n",
      "out his leg, and silently, good-naturedly, almost smiling,\n",
      "looked back to his master : —\n",
      "\n",
      "“T ordered him to come on Sunday, and till then that\n",
      "\n"
     ]
    }
   ],
   "source": [
    "file_name = 'basic_test.png'\n",
    "pdf = pytesseract.image_to_pdf_or_hocr(f'data\\\\{file_name}', extension='pdf')\n",
    "with open(f'results\\\\{file_name.split(\".\")[0]}.pdf', 'w+b') as f:\n",
    "    f.write(pdf) # pdf type is bytes by default\n",
    "print(pytesseract.image_to_string(f'data\\\\{file_name}'))"
   ]
  },
  {
   "cell_type": "markdown",
   "id": "cb3841ad",
   "metadata": {},
   "source": [
    "Here I experiment with reading in diagonal text. As you can see by looking at the results, the text is not generated correctly, though it is positioned correctly. One way to handle this would be to rotate the image before generating the pdf, but this is not preferred. I am investigating whether there is some method for natively reading rotated text in tesseract."
   ]
  },
  {
   "cell_type": "code",
   "execution_count": 3,
   "id": "bfbdc2a5",
   "metadata": {},
   "outputs": [
    {
     "name": "stdout",
     "output_type": "stream",
     "text": [
      "“xoy AZe] 94} JBAO peduunl Bop umosgq\n",
      "yoinb ay *xo} Aze] eu} Jeno peduuni\n",
      "Bop umojg yoInb ay “xo Aze] ay} JaA0\n",
      "peduun{ Bop umoiq yoinb aus ‘xoy AzZe]\n",
      "24} J8A0 peduin{ Bop umosg yoinb ayy\n",
      "“JEUOY SII} JO\n",
      "\n",
      "sad} ||— UO SyJOM }I J 89S PUB BpPod 190\n",
      "OU} 4S9} 0} }X9} JulOd Z|, JO JO] © SI SIL\n",
      "\n"
     ]
    }
   ],
   "source": [
    "file_name = 'phototest-rotated-L.png'\n",
    "pdf = pytesseract.image_to_pdf_or_hocr(f'data\\\\{file_name}', extension='pdf')\n",
    "with open(f'results\\\\{file_name.split(\".\")[0]}.pdf', 'w+b') as f:\n",
    "    f.write(pdf) # pdf type is bytes by default\n",
    "print(pytesseract.image_to_string(f'data\\\\{file_name}'))"
   ]
  },
  {
   "cell_type": "markdown",
   "id": "a5e06760",
   "metadata": {},
   "source": [
    "We can use to image_to_osd method to get useful info on the scan."
   ]
  },
  {
   "cell_type": "code",
   "execution_count": 4,
   "id": "4c2efa64",
   "metadata": {},
   "outputs": [
    {
     "name": "stdout",
     "output_type": "stream",
     "text": [
      "Page number: 0\n",
      "Orientation in degrees: 0\n",
      "Rotate: 0\n",
      "Orientation confidence: 41.23\n",
      "Script: Hebrew\n",
      "Script confidence: 63.70\n",
      "\n"
     ]
    }
   ],
   "source": [
    "file_name = 'hebrew-nikud-genesis-1-2.png'\n",
    "print(pytesseract.image_to_osd(f'data\\\\{file_name}'))"
   ]
  },
  {
   "cell_type": "markdown",
   "id": "4c0a0622",
   "metadata": {},
   "source": [
    "Here is a function that will create a pdf in our results folder, note that it will automatically rotate and detect which script is being used."
   ]
  },
  {
   "cell_type": "code",
   "execution_count": 5,
   "id": "948be403",
   "metadata": {},
   "outputs": [],
   "source": [
    "def create_pdf_w_ocr(file_name, extension = 'pdf'):\n",
    "    #opening our image and obtaining the rotation data\n",
    "    with Image.open(f'data\\\\{file_name}') as img:\n",
    "        osd_info = pytesseract.image_to_osd(img)\n",
    "    \n",
    "    #getting the rotation angle\n",
    "    rotation_angle = re.search('(?<=Rotate: )\\d+', osd_info).group(0)\n",
    "    \n",
    "    #rotating the image the desired amount\n",
    "    rotated_img = img.rotate(-float(rotation_angle), expand=1)\n",
    "    \n",
    "    #getting script language\n",
    "    script = re.search(\"Script: ([a-zA-Z]+)\\n\", osd_info).group(1)\n",
    "    \n",
    "    #creating our pdf (or other file)\n",
    "    pdf = pytesseract.image_to_pdf_or_hocr(rotated_img, config='-l script/' + script, extension = extension)\n",
    "    \n",
    "    \n",
    "    \n",
    "    #saving it\n",
    "    with open(f'results\\\\{file_name.split(\".\")[0]}.pdf', 'w+b') as f:\n",
    "        f.write(pdf) \n",
    "file_name = 'hebrew-nikud-genesis-1-2.png'\n",
    "create_pdf_w_ocr(file_name)"
   ]
  },
  {
   "cell_type": "code",
   "execution_count": 6,
   "id": "943d0b00",
   "metadata": {},
   "outputs": [],
   "source": [
    "file_name = 'hebrew-nikud-genesis-1-2.png'\n",
    "create_pdf_w_ocr(file_name)"
   ]
  },
  {
   "cell_type": "code",
   "execution_count": 7,
   "id": "f30f9dbb",
   "metadata": {},
   "outputs": [],
   "source": [
    "file_name = 'phototest-rotated-L.png'\n",
    "create_pdf_w_ocr(file_name)"
   ]
  },
  {
   "cell_type": "markdown",
   "id": "b0eefb47",
   "metadata": {},
   "source": [
    "Below we see that we can also use .tif files (and therefore also .tiff files)"
   ]
  },
  {
   "cell_type": "code",
   "execution_count": null,
   "id": "7d932961",
   "metadata": {},
   "outputs": [],
   "source": [
    "file_name = '8087_054.3B.tif'\n",
    "create_pdf_w_ocr(file_name)"
   ]
  },
  {
   "cell_type": "markdown",
   "id": "afe8ccde",
   "metadata": {},
   "source": [
    "As we see below, the model has occasional errors, as 324 is incorrectly interpreted as 824. If you check the resulting pdf though in 324.pdf, we see that the text is still overlayed in the correct position."
   ]
  },
  {
   "cell_type": "code",
   "execution_count": 8,
   "id": "fce065cf",
   "metadata": {},
   "outputs": [
    {
     "name": "stdout",
     "output_type": "stream",
     "text": [
      "824\n",
      "\n"
     ]
    }
   ],
   "source": [
    "file_name = '324.tif'\n",
    "pdf = pytesseract.image_to_pdf_or_hocr(f'data\\\\{file_name}', extension='pdf')\n",
    "with open(f'results\\\\{file_name.split(\".\")[0]}.pdf', 'w+b') as f:\n",
    "    f.write(pdf) # pdf type is bytes by default\n",
    "print(pytesseract.image_to_string(f'data\\\\{file_name}'))"
   ]
  },
  {
   "cell_type": "markdown",
   "id": "a18b81a5",
   "metadata": {},
   "source": [
    "Here we test out a mutli-page scan. The test is a series of png files generated from a doc I filled with random lorem ipsum text. You input the path to a text file which contains the directories of the pngs."
   ]
  },
  {
   "cell_type": "code",
   "execution_count": 9,
   "id": "d3c15ebc",
   "metadata": {},
   "outputs": [
    {
     "name": "stdout",
     "output_type": "stream",
     "text": [
      "Labore dolore dolores accusam facilisi nisl takimata tempor ut laoreet. Rebum esse\n",
      "accusam facilisis takimata accusam veniam accusam in diam. Sanctus vero diam clita\n",
      "invidunt sit. Et sit ad invidunt ea.\n",
      "\n",
      "Lorem possim qui stet eu gubergren. Adipiscing stet dolore magna eirmod est placerat\n",
      "dolor elitr clita mazim tincidunt at aliquyam. Est ut tempor dolor. Sit consetetur vero.\n",
      "\n",
      "Ipsum stet diam vero ea duo aliquyam diam clita voluptua autem iriure blandit ut\n",
      "voluptua. Labore qui sit sed elitr gubergren eros clita takimata dolore diam ea sanctus\n",
      "erat justo velit et. Elitr dignissim consectetuer. Tempor sea facer sed ut magna clita\n",
      "dolor magna volutpat consetetur elitr in option ut. Clita erat lobortis consequat duo eros\n",
      "takimata. Ut iriure odio in nonummy sanctus sanctus nibh sed dolor consetetur ut sit\n",
      "dolor accusam dolore. Zzril consequat ea diam stet clita. Sit feugiat kasd lorem dolore\n",
      "dolor stet est magna eros invidunt nonummy. Dolor gubergren magna nisl invidunt\n",
      "ipsum. lpsum duis vero.\n",
      "\n",
      "Duis iriure no tempor ut elitr magna erat sit imperdiet erat elit nonummy. Gubergren\n",
      "suscipit invidunt aliquip wisi invidunt diam praesent et dolores duo justo sit lorem.\n",
      "Sadipscing dolores ea nonumy et dolore. Sed et rebum velit no velit magna sanctus ea\n",
      "et ipsum dolores dolore sit diam dolore dolore dolore odio. Invidunt nonumy esse\n",
      "invidunt duo mazim erat consequat ut. Kasd ipsum dolor diam autem imperdiet lorem\n",
      "clita lobortis iriure invidunt hendrerit voluptua. Et ut ipsum et elit cum suscipit diam\n",
      "magna at kasd molestie tempor stet minim hendrerit consequat quis gubergren. Kasd\n",
      "sea eirmod tincidunt. No iusto diam tempor dignissim. Magna duis eos tincidunt at te\n",
      "justo duo liber justo amet odio takimata dolor aliquip erat duis luptatum. lpsum duo\n",
      "aliquyam amet delenit. Lorem nulla sit ut at hendrerit tempor. Nonumy eos consequat\n",
      "tempor option erat invidunt erat amet et ipsum dolore dolor et labore consequat justo.\n",
      "Hendrerit magna sea nulla amet. Dolor in eos stet dolor vero ipsum elitr dolor hendrerit\n",
      "erat ea invidunt kasd in ipsum lorem at volutpat.\n",
      "\n",
      "Eleifend tation ipsum tincidunt dolores labore duis augue facer eos sea nihil hendrerit\n",
      "nostrud dolore sadipscing sadipscing ut sanctus. No accusam duo diam nonumy elitr\n",
      "feugait. Ea sanctus nonumy aliquyam sit duo ea aliquip justo dolor et iriure exerci dolore\n",
      "dolor. Dolores no sit. Duo duis takimata. Velit dolor dolores nonumy amet. Eos molestie\n",
      "duis tempor vero sadipscing gubergren clita invidunt vero sit justo ad justo et sed diam\n",
      "accusam. Est sanctus eirmod sadipscing clita kasd labore elitr iriure.\n",
      "\n",
      "Ipsum est sea enim diam sit erat magna nulla dolore dolore feugait sed voluptua lorem\n",
      "labore invidunt nonummy diam. Magna molestie sit sit sadipscing amet dolores sed vero\n",
      "sit eirmod. Lorem adipiscing dolor eum sanctus justo stet ipsum lorem ut euismod vel.\n",
      "\f",
      "Rebum mazim kasd vulputate sadipscing ad euismod nonumy diam luptatum et ipsum\n",
      "placerat justo elitr consetetur consequat lorem. No duo nonumy dolore diam at lorem\n",
      "justo dolor augue molestie est eros ut dolor kasd praesent. Lorem voluptua magna iusto\n",
      "dolores amet et amet aliquyam. Ipsum lorem eros odio diam ullamcorper lorem id ipsum\n",
      "duo et et labore esse et voluptua. Elit lorem quis justo amet clita clita consequat dolor\n",
      "praesent consectetuer ipsum gubergren accumsan labore facilisis vulputate dolore duo.\n",
      "Dolore sed et labore voluptua nonumy ea voluptua aliquyam justo sed commodo dolor\n",
      "amet sit amet aliquyam vulputate dolor. Hendrerit amet nulla ea tempor. Est et dolore\n",
      "ullamcorper sed blandit consetetur lorem erat diam voluptua eum clita elitr ea dolor elit\n",
      "clita. No te dolore nonumy sadipscing erat eos aliquyam molestie dolor. Nobis et eos\n",
      "voluptua consequat nisl duo justo sea kasd ipsum. Sed suscipit sea takimata sed dolor\n",
      "sadipscing. Dolore vero feugait possim facilisi diam et. Eirmod iusto nostrud tempor sed\n",
      "vel lorem molestie kasd iusto. Dolor et aliquyam sed eirmod diam liber tincidunt.\n",
      "Invidunt sit eirmod erat eos rebum rebum iusto ipsum in lorem.\n",
      "\n",
      "Invidunt dolor ipsum erat nonumy ut. Amet duo gubergren ea assum est kasd no kasd\n",
      "dolores augue justo et in dolore. At enim diam ipsum vel aliquyam mazim ea no erat\n",
      "invidunt ex takimata volutpat eirmod dignissim sea lorem. Dolores molestie invidunt at\n",
      "nostrud no diam kasd te facilisis molestie ut. Diam rebum kasd lorem dolores iusto sed\n",
      "accumsan ipsum. Sea nonumy blandit lorem sed takimata lorem dolores blandit.\n",
      "Consequat dolore erat dolore no ut blandit et magna diam nonumy elitr clita aliquyam\n",
      "magna et consetetur. Sadipscing lorem justo adipiscing invidunt et delenit ipsum. Amet\n",
      "delenit amet duis et nobis iusto te ad assum dolor at clita commodo feugiat elitr iriure\n",
      "velit. Eos imperdiet molestie. Lorem magna kasd accusam lorem dignissim et amet stet\n",
      "molestie magna ut. Duis magna tation consequat dolor kasd veniam nonumy sadipscing\n",
      "ut eum nonumy molestie diam consequat ullamcorper magna. Dolores dolor gubergren\n",
      "illum sit dolore clita magna possim diam amet dolore elit accumsan eum. Magna zzril\n",
      "labore option erat elitr est eu et minim. Ut vulputate dolor magna quis gubergren ut sed\n",
      "et eos sed nonummy et et lorem te magna et et. Takimata nonumy labore ex diam eos.\n",
      "\n",
      "lriure labore sit et consetetur gubergren et duo et tempor imperdiet nonumy et quis. Et\n",
      "diam dolores ut sit facilisis rebum duis diam sit vero labore vero labore. Accumsan\n",
      "rebum erat sea rebum amet takimata. Et kasd consequat in dolor augue consequat\n",
      "enim. Nonumy dolores eos sanctus sanctus dolor accusam sit gubergren tempor duo id\n",
      "voluptua eos minim et. Ullamcorper dolore diam sea sit iusto. Et et voluptua sed\n",
      "consetetur consetetur et dolore nam in ipsum et vero. Amet enim lorem takimata\n",
      "aliquyam elitr magna zzril. Aliquyam no ea hendrerit dolor stet clita ipsum rebum\n",
      "invidunt accusam sed eu no vero lorem tation quis. Dolores accusam lorem diam eos\n",
      "nonumy ipsum in amet at. Consectetuer rebum vero diam diam illum lorem et autem\n",
      "dolor et nostrud in.\n",
      "\f",
      "Kasd eum ipsum elitr voluptua magna ullamcorper volutpat gubergren diam eos ea\n",
      "lorem odio. Diam erat sea aliquyam et at. Lorem duo iusto stet eleifend at stet ea ut velit\n",
      "sit diam consequat sed nobis exerci. Autem labore elit euismod clita takimata eum no\n",
      "dolore ad ullamcorper aliquyam lorem aliquip dolore. Magna quis diam sit. Vel justo ea\n",
      "ea voluptua amet accusam feugait blandit congue no lorem sed. Vero et consequat.\n",
      "Adipiscing elitr sadipscing sed ut sit minim sed et gubergren. Sanctus stet aliquam. Et\n",
      "ipsum ea ipsum amet takimata gubergren et no dignissim sea erat sadipscing sanctus\n",
      "amet.\n",
      "\n",
      "lriure sed velit iriure accusam. Nonumy stet minim. Dolor dolore aliquyam illum sit zzril\n",
      "dolor kasd ut qui. lpsum nam sed gubergren stet et. Feugait magna rebum et voluptua\n",
      "suscipit nostrud. Lorem et labore stet suscipit amet aliquyam aliquam magna ipsum ea\n",
      "autem lorem magna consectetuer amet at gubergren dolores. Diam vero ipsum\n",
      "accusam nonumy et ipsum blandit lorem invidunt aliquyam dolores placerat duis ipsum.\n",
      "Sed et in velit elitr sed ut sed eos lorem. Diam et zzril lorem sed erat. Sadipscing no\n",
      "accumsan dolores cum invidunt amet feugait ut delenit et stet tempor at duis velit no.\n",
      "lriure accusam molestie stet ipsum labore no est. Sed invidunt et dolore lobortis sea. Ut\n",
      "et elit lobortis et augue no. Dolore vulputate stet rebum accusam sit esse minim velit\n",
      "magna et stet hendrerit duo mazim consetetur. Et sea illum est exerci sit accusam justo\n",
      "et dolor amet dolore sit amet diam. Eos praesent ipsum accusam sea augue tempor\n",
      "suscipit lorem gubergren sed erat gubergren at et. Suscipit elit aliquyam clita rebum\n",
      "consequat et clita nostrud luptatum accusam tempor et sit tempor. Dolor lorem possim\n",
      "praesent justo velit dolores et.\n",
      "\n"
     ]
    }
   ],
   "source": [
    "file_name = 'multi_page_test\\\\multi_page_test.txt'\n",
    "pdf = pytesseract.image_to_pdf_or_hocr(f'data\\\\{file_name}', extension='pdf')\n",
    "with open(f'results\\\\{file_name.split(\".\")[0]}.pdf', 'w+b') as f:\n",
    "    f.write(pdf) # pdf type is bytes by default\n",
    "print(pytesseract.image_to_string(f'data\\\\{file_name}'))"
   ]
  }
 ],
 "metadata": {
  "kernelspec": {
   "display_name": "Python 3 (ipykernel)",
   "language": "python",
   "name": "python3"
  },
  "language_info": {
   "codemirror_mode": {
    "name": "ipython",
    "version": 3
   },
   "file_extension": ".py",
   "mimetype": "text/x-python",
   "name": "python",
   "nbconvert_exporter": "python",
   "pygments_lexer": "ipython3",
   "version": "3.9.7"
  }
 },
 "nbformat": 4,
 "nbformat_minor": 5
}
